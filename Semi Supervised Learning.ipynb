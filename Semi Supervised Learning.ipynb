{
 "cells": [
  {
   "cell_type": "code",
   "execution_count": 1,
   "id": "8a031a85",
   "metadata": {},
   "outputs": [],
   "source": [
    "import numpy as np \n",
    "import pandas as pd\n",
    "from sklearn import datasets\n",
    "from sklearn.semi_supervised import LabelPropagation\n",
    "\n",
    "from sklearn.metrics import confusion_matrix, classification_report\n",
    "from sklearn.model_selection import GridSearchCV\n",
    "from sklearn.metrics import accuracy_score"
   ]
  },
  {
   "cell_type": "code",
   "execution_count": 2,
   "id": "89bcb096",
   "metadata": {},
   "outputs": [],
   "source": [
    "# Load in Breast Cancer (Tabular) Data from sklearn's datasets module\n",
    "cancer_df = datasets.load_breast_cancer()\n",
    "\n",
    "# To randomly assign some data points to be unlabeled\n",
    "random = np.random.RandomState(42)\n",
    "\n",
    "# Randomly assign some data points to be unlabeled\n",
    "# Denote unlabeled data points with label == -1\n",
    "rnd_unlabeled_points = random.rand(len(cancer_df.target)) < 0.3\n",
    "labels = np.copy(cancer_df.target)\n",
    "labels_orig = np.copy(cancer_df.target) # Keep a copy of the original labels\n"
   ]
  },
  {
   "cell_type": "code",
   "execution_count": 14,
   "id": "6d72a3c2",
   "metadata": {},
   "outputs": [
    {
     "data": {
      "text/plain": [
       "569"
      ]
     },
     "execution_count": 14,
     "metadata": {},
     "output_type": "execute_result"
    }
   ],
   "source": [
    "len(cancer_df.target)"
   ]
  },
  {
   "cell_type": "code",
   "execution_count": 17,
   "id": "748e10bf",
   "metadata": {},
   "outputs": [
    {
     "data": {
      "text/plain": [
       "array([False, False, False, False,  True,  True,  True, False, False,\n",
       "       False,  True, False, False,  True,  True,  True, False, False,\n",
       "       False,  True, False,  True,  True, False, False, False,  True,\n",
       "       False, False,  True, False,  True,  True, False, False, False,\n",
       "       False,  True, False, False,  True, False,  True, False,  True,\n",
       "       False, False, False, False,  True, False, False, False, False,\n",
       "       False, False,  True,  True,  True, False, False,  True, False,\n",
       "       False,  True, False,  True, False,  True, False, False,  True,\n",
       "        True, False, False, False, False,  True, False,  True, False,\n",
       "       False, False,  True, False, False, False, False, False, False,\n",
       "        True, False, False, False, False, False, False, False,  True,\n",
       "        True,  True, False, False, False, False,  True, False, False,\n",
       "        True,  True,  True,  True, False, False, False, False, False,\n",
       "        True, False, False, False, False, False,  True,  True, False,\n",
       "       False, False,  True, False, False,  True,  True, False, False,\n",
       "       False, False, False, False, False, False,  True, False, False,\n",
       "        True,  True, False, False,  True,  True, False,  True,  True,\n",
       "       False, False,  True, False, False,  True, False, False, False,\n",
       "       False, False,  True, False, False,  True,  True, False, False,\n",
       "        True, False,  True, False,  True, False, False, False,  True,\n",
       "       False,  True, False, False,  True, False, False, False, False,\n",
       "        True,  True, False, False, False, False, False, False, False,\n",
       "       False, False, False,  True,  True, False, False,  True,  True,\n",
       "       False,  True,  True, False, False, False,  True, False,  True,\n",
       "       False, False, False, False, False, False,  True, False,  True,\n",
       "        True, False, False, False, False, False, False, False, False,\n",
       "        True, False,  True,  True, False,  True, False, False, False,\n",
       "       False,  True, False, False, False, False, False,  True, False,\n",
       "       False, False,  True, False, False, False, False,  True, False,\n",
       "       False,  True, False, False, False, False, False, False,  True,\n",
       "       False, False, False, False, False, False, False, False, False,\n",
       "       False, False, False, False,  True, False,  True, False, False,\n",
       "        True, False,  True,  True, False, False,  True, False, False,\n",
       "        True, False,  True,  True, False, False, False, False, False,\n",
       "       False, False, False,  True, False,  True,  True, False, False,\n",
       "       False, False,  True,  True,  True, False, False, False,  True,\n",
       "       False, False, False, False, False,  True, False, False,  True,\n",
       "        True,  True,  True, False, False, False,  True, False, False,\n",
       "        True, False, False, False, False,  True, False, False, False,\n",
       "       False, False,  True,  True, False,  True, False, False, False,\n",
       "       False, False, False, False, False, False, False, False,  True,\n",
       "        True,  True,  True,  True, False,  True, False, False,  True,\n",
       "       False,  True,  True, False, False, False, False, False,  True,\n",
       "        True, False, False, False, False, False, False, False, False,\n",
       "       False, False, False, False,  True, False, False, False, False,\n",
       "       False, False,  True, False,  True, False, False, False, False,\n",
       "       False, False,  True, False, False, False, False, False,  True,\n",
       "       False,  True, False, False, False, False,  True,  True, False,\n",
       "       False,  True,  True, False,  True, False, False,  True,  True,\n",
       "       False, False, False, False, False, False, False, False,  True,\n",
       "       False, False, False, False,  True, False,  True, False,  True,\n",
       "        True,  True, False, False, False, False, False,  True, False,\n",
       "        True, False,  True, False,  True, False, False, False,  True,\n",
       "       False, False, False, False, False, False, False, False, False,\n",
       "        True,  True, False, False, False, False,  True,  True, False,\n",
       "       False, False,  True, False, False, False, False, False, False,\n",
       "       False,  True, False, False, False, False, False, False, False,\n",
       "       False,  True,  True, False, False, False,  True, False, False,\n",
       "       False, False, False, False, False,  True,  True, False, False,\n",
       "       False, False, False, False, False, False,  True, False,  True,\n",
       "       False, False,  True, False, False, False,  True, False, False,\n",
       "       False, False, False, False, False, False, False,  True,  True,\n",
       "       False, False, False,  True,  True,  True, False, False, False,\n",
       "       False, False])"
      ]
     },
     "execution_count": 17,
     "metadata": {},
     "output_type": "execute_result"
    }
   ],
   "source": [
    "rnd_unlabeled_points"
   ]
  },
  {
   "cell_type": "code",
   "execution_count": 3,
   "id": "d057357e",
   "metadata": {},
   "outputs": [
    {
     "data": {
      "text/plain": [
       "array([0, 0, 0, 0, 0, 0, 0, 0, 0, 0, 0, 0, 0, 0, 0, 0, 0, 0, 0, 1, 1, 1,\n",
       "       0, 0, 0, 0, 0, 0, 0, 0, 0, 0, 0, 0, 0, 0, 0, 1, 0, 0, 0, 0, 0, 0,\n",
       "       0, 0, 1, 0, 1, 1, 1, 1, 1, 0, 0, 1, 0, 0, 1, 1, 1, 1, 0, 1, 0, 0,\n",
       "       1, 1, 1, 1, 0, 1, 0, 0, 1, 0, 1, 0, 0, 1, 1, 1, 0, 0, 1, 0, 0, 0,\n",
       "       1, 1, 1, 0, 1, 1, 0, 0, 1, 1, 1, 0, 0, 1, 1, 1, 1, 0, 1, 1, 0, 1,\n",
       "       1, 1, 1, 1, 1, 1, 1, 0, 0, 0, 1, 0, 0, 1, 1, 1, 0, 0, 1, 0, 1, 0,\n",
       "       0, 1, 0, 0, 1, 1, 0, 1, 1, 0, 1, 1, 1, 1, 0, 1, 1, 1, 1, 1, 1, 1,\n",
       "       1, 1, 0, 1, 1, 1, 1, 0, 0, 1, 0, 1, 1, 0, 0, 1, 1, 0, 0, 1, 1, 1,\n",
       "       1, 0, 1, 1, 0, 0, 0, 1, 0, 1, 0, 1, 1, 1, 0, 1, 1, 0, 0, 1, 0, 0,\n",
       "       0, 0, 1, 0, 0, 0, 1, 0, 1, 0, 1, 1, 0, 1, 0, 0, 0, 0, 1, 1, 0, 0,\n",
       "       1, 1, 1, 0, 1, 1, 1, 1, 1, 0, 0, 1, 1, 0, 1, 1, 0, 0, 1, 0, 1, 1,\n",
       "       1, 1, 0, 1, 1, 1, 1, 1, 0, 1, 0, 0, 0, 0, 0, 0, 0, 0, 0, 0, 0, 0,\n",
       "       0, 0, 1, 1, 1, 1, 1, 1, 0, 1, 0, 1, 1, 0, 1, 1, 0, 1, 0, 0, 1, 1,\n",
       "       1, 1, 1, 1, 1, 1, 1, 1, 1, 1, 1, 0, 1, 1, 0, 1, 0, 1, 1, 1, 1, 1,\n",
       "       1, 1, 1, 1, 1, 1, 1, 1, 1, 0, 1, 1, 1, 0, 1, 0, 1, 1, 1, 1, 0, 0,\n",
       "       0, 1, 1, 1, 1, 0, 1, 0, 1, 0, 1, 1, 1, 0, 1, 1, 1, 1, 1, 1, 1, 0,\n",
       "       0, 0, 1, 1, 1, 1, 1, 1, 1, 1, 1, 1, 1, 0, 0, 1, 0, 0, 0, 1, 0, 0,\n",
       "       1, 1, 1, 1, 1, 0, 1, 1, 1, 1, 1, 0, 1, 1, 1, 0, 1, 1, 0, 0, 1, 1,\n",
       "       1, 1, 1, 1, 0, 1, 1, 1, 1, 1, 1, 1, 0, 1, 1, 1, 1, 1, 0, 1, 1, 0,\n",
       "       1, 1, 1, 1, 1, 1, 1, 1, 1, 1, 1, 1, 0, 1, 0, 0, 1, 0, 1, 1, 1, 1,\n",
       "       1, 0, 1, 1, 0, 1, 0, 1, 1, 0, 1, 0, 1, 1, 1, 1, 1, 1, 1, 1, 0, 0,\n",
       "       1, 1, 1, 1, 1, 1, 0, 1, 1, 1, 1, 1, 1, 1, 1, 1, 1, 0, 1, 1, 1, 1,\n",
       "       1, 1, 1, 0, 1, 0, 1, 1, 0, 1, 1, 1, 1, 1, 0, 0, 1, 0, 1, 0, 1, 1,\n",
       "       1, 1, 1, 0, 1, 1, 0, 1, 0, 1, 0, 0, 1, 1, 1, 0, 1, 1, 1, 1, 1, 1,\n",
       "       1, 1, 1, 1, 1, 0, 1, 0, 0, 1, 1, 1, 1, 1, 1, 1, 1, 1, 1, 1, 1, 1,\n",
       "       1, 1, 1, 1, 1, 1, 1, 1, 1, 1, 1, 1, 0, 0, 0, 0, 0, 0, 1])"
      ]
     },
     "execution_count": 3,
     "metadata": {},
     "output_type": "execute_result"
    }
   ],
   "source": [
    "labels"
   ]
  },
  {
   "cell_type": "code",
   "execution_count": 4,
   "id": "7aa4b046",
   "metadata": {},
   "outputs": [],
   "source": [
    "labels[rnd_unlabeled_points] = -1"
   ]
  },
  {
   "cell_type": "code",
   "execution_count": 5,
   "id": "d501b9b2",
   "metadata": {},
   "outputs": [
    {
     "data": {
      "text/plain": [
       "array([ 0,  0,  0,  0, -1, -1, -1,  0,  0,  0, -1,  0,  0, -1, -1, -1,  0,\n",
       "        0,  0, -1,  1, -1, -1,  0,  0,  0, -1,  0,  0, -1,  0, -1, -1,  0,\n",
       "        0,  0,  0, -1,  0,  0, -1,  0, -1,  0, -1,  0,  1,  0,  1, -1,  1,\n",
       "        1,  1,  0,  0,  1, -1, -1, -1,  1,  1, -1,  0,  1, -1,  0, -1,  1,\n",
       "       -1,  1,  0, -1, -1,  0,  1,  0,  1, -1,  0, -1,  1,  1,  0, -1,  1,\n",
       "        0,  0,  0,  1,  1, -1,  0,  1,  1,  0,  0,  1,  1, -1, -1, -1,  1,\n",
       "        1,  1,  1, -1,  1,  1, -1, -1, -1, -1,  1,  1,  1,  1,  1, -1,  0,\n",
       "        0,  1,  0,  0, -1, -1,  1,  0,  0, -1,  0,  1, -1, -1,  1,  0,  0,\n",
       "        1,  1,  0,  1,  1, -1,  1,  1, -1, -1,  0,  1, -1, -1,  1, -1, -1,\n",
       "        1,  1, -1,  0,  1, -1,  1,  1,  0,  0,  1, -1,  1,  1, -1, -1,  1,\n",
       "        1, -1,  0, -1,  1, -1,  1,  0,  1, -1,  0, -1,  0,  1, -1,  1,  0,\n",
       "        1,  1, -1, -1,  1,  1,  0,  0,  1,  0,  0,  0,  0,  1, -1, -1,  0,\n",
       "        1, -1, -1,  0, -1, -1,  0,  1,  0, -1,  0, -1,  1,  1,  0,  0,  1,\n",
       "        1, -1,  0, -1, -1,  1,  1,  1,  0,  0,  1,  1,  0, -1,  1, -1, -1,\n",
       "        1, -1,  1,  1,  1,  1, -1,  1,  1,  1,  1,  1, -1,  1,  0,  0, -1,\n",
       "        0,  0,  0,  0, -1,  0,  0, -1,  0,  0,  0,  1,  1,  1, -1,  1,  1,\n",
       "        0,  1,  0,  1,  1,  0,  1,  1,  0,  1,  0, -1,  1, -1,  1,  1, -1,\n",
       "        1, -1, -1,  1,  1, -1,  1,  1, -1,  1, -1, -1,  1,  0,  1,  1,  1,\n",
       "        1,  1,  1, -1,  1, -1, -1,  1,  1,  1,  1, -1, -1, -1,  1,  0,  1,\n",
       "       -1,  1,  1,  1,  1,  0, -1,  0,  1, -1, -1, -1, -1,  1,  0,  1, -1,\n",
       "        1,  1, -1,  0,  1,  1,  1, -1,  1,  1,  1,  0,  0, -1, -1,  1, -1,\n",
       "        1,  1,  1,  1,  1,  1,  1,  1,  0,  0,  1, -1, -1, -1, -1, -1,  0,\n",
       "       -1,  1,  1, -1,  1, -1, -1,  1,  1,  1,  1,  0, -1, -1,  1,  0,  1,\n",
       "        1,  0,  0,  1,  1,  1,  1,  1,  1, -1,  1,  1,  1,  1,  1,  1, -1,\n",
       "        0, -1,  1,  1,  1,  1,  0,  1, -1,  0,  1,  1,  1,  1, -1,  1, -1,\n",
       "        1,  1,  1,  1, -1, -1,  1,  0, -1, -1,  0, -1,  1,  1, -1, -1,  0,\n",
       "        1,  1,  0,  1,  0,  1,  1, -1,  1,  0,  1,  1, -1,  1, -1,  1, -1,\n",
       "       -1, -1,  0,  1,  1,  1,  1, -1,  1, -1,  1, -1,  1, -1,  1,  1,  1,\n",
       "       -1,  1,  1,  0,  1,  1,  1,  1,  1,  1, -1, -1,  1,  0,  1,  1, -1,\n",
       "       -1,  1,  1,  1, -1,  0,  0,  1,  0,  1,  0,  1, -1,  1,  1,  1,  0,\n",
       "        1,  1,  0,  1, -1, -1,  0,  0,  1, -1,  1,  0,  1,  1,  1,  1,  1,\n",
       "       -1, -1,  1,  1,  1,  1,  0,  1,  0,  0, -1,  1, -1,  1,  1, -1,  1,\n",
       "        1,  1, -1,  1,  1,  1,  1,  1,  1,  1,  1,  1, -1, -1,  1,  1,  1,\n",
       "       -1, -1, -1,  0,  0,  0,  0,  1])"
      ]
     },
     "execution_count": 5,
     "metadata": {},
     "output_type": "execute_result"
    }
   ],
   "source": [
    "labels"
   ]
  },
  {
   "cell_type": "code",
   "execution_count": 6,
   "id": "957d1ded",
   "metadata": {},
   "outputs": [
    {
     "name": "stdout",
     "output_type": "stream",
     "text": [
      "              precision    recall  f1-score   support\n",
      "\n",
      "           0       0.97      0.88      0.92        74\n",
      "           1       0.91      0.98      0.94        95\n",
      "\n",
      "    accuracy                           0.93       169\n",
      "   macro avg       0.94      0.93      0.93       169\n",
      "weighted avg       0.94      0.93      0.93       169\n",
      "\n",
      "Confusion matrix\n",
      "[[65  9]\n",
      " [ 2 93]]\n"
     ]
    }
   ],
   "source": [
    "X = cancer_df.data\n",
    "unlabeled = labels[labels==-1]\n",
    "\n",
    "# Specify model\n",
    "model = LabelPropagation(kernel='knn',n_neighbors=5, gamma=30, max_iter=2000)\n",
    "\n",
    "# Fit Model\n",
    "model.fit(X, labels)\n",
    "\n",
    "# Make predictions on originally unlabeled data\n",
    "predicted_labels = model.predict(X[rnd_unlabeled_points])\n",
    "true_labels = labels_orig[rnd_unlabeled_points]\n",
    "\n",
    "# Display classification report and confusion matrix\n",
    "cm = confusion_matrix(true_labels, predicted_labels, labels=model.classes_)\n",
    "print(classification_report(true_labels, predicted_labels))\n",
    "print(\"Confusion matrix\")\n",
    "print(cm)"
   ]
  },
  {
   "cell_type": "code",
   "execution_count": 7,
   "id": "e241d94e",
   "metadata": {},
   "outputs": [
    {
     "data": {
      "text/plain": [
       "array([-1, -1, -1, -1, -1, -1, -1, -1, -1, -1, -1, -1, -1, -1, -1, -1, -1,\n",
       "       -1, -1, -1, -1, -1, -1, -1, -1, -1, -1, -1, -1, -1, -1, -1, -1, -1,\n",
       "       -1, -1, -1, -1, -1, -1, -1, -1, -1, -1, -1, -1, -1, -1, -1, -1, -1,\n",
       "       -1, -1, -1, -1, -1, -1, -1, -1, -1, -1, -1, -1, -1, -1, -1, -1, -1,\n",
       "       -1, -1, -1, -1, -1, -1, -1, -1, -1, -1, -1, -1, -1, -1, -1, -1, -1,\n",
       "       -1, -1, -1, -1, -1, -1, -1, -1, -1, -1, -1, -1, -1, -1, -1, -1, -1,\n",
       "       -1, -1, -1, -1, -1, -1, -1, -1, -1, -1, -1, -1, -1, -1, -1, -1, -1,\n",
       "       -1, -1, -1, -1, -1, -1, -1, -1, -1, -1, -1, -1, -1, -1, -1, -1, -1,\n",
       "       -1, -1, -1, -1, -1, -1, -1, -1, -1, -1, -1, -1, -1, -1, -1, -1, -1,\n",
       "       -1, -1, -1, -1, -1, -1, -1, -1, -1, -1, -1, -1, -1, -1, -1, -1])"
      ]
     },
     "execution_count": 7,
     "metadata": {},
     "output_type": "execute_result"
    }
   ],
   "source": [
    "unlabeled "
   ]
  },
  {
   "cell_type": "markdown",
   "id": "c4200c5e",
   "metadata": {},
   "source": [
    "The RBF Kernel has a parameter gamma “γ” that determines the complexity of the decision boundary. By tuning this parameter, we can adjust the trade-off between bias and variance "
   ]
  },
  {
   "cell_type": "code",
   "execution_count": 10,
   "id": "f43012b6",
   "metadata": {},
   "outputs": [],
   "source": [
    "import warnings\n",
    "warnings.filterwarnings(\"ignore\") "
   ]
  },
  {
   "cell_type": "code",
   "execution_count": 12,
   "id": "69052c35",
   "metadata": {},
   "outputs": [],
   "source": [
    "# Define the parameter grid for the hyperparameters to tune\n",
    "param_grid = {'kernel': ['rbf','knn'], \n",
    "              'gamma': [0.1, 0.5, 1.0, 5.0, 10, 20, 30,50,100], \n",
    "              'n_neighbors': [4,5,6,7,8]}\n",
    "\n",
    "# Specify LPA model\n",
    "model = LabelPropagation(max_iter=4000)\n",
    "\n",
    "# Create GridSearchCV object\n",
    "grid_search = GridSearchCV(estimator=model, \n",
    "                      param_grid=param_grid, cv=5, scoring='accuracy')\n",
    "\n",
    "# Fit the GridSearchCV object to training data\n",
    "grid_search.fit(X, labels)\n",
    "\n",
    "# Use the best model to make predictions on the unlabeled data points\n",
    "y_pred = grid_search.best_estimator_.predict(X[rnd_unlabeled_points])\n",
    "\n",
    "# Calculate the accuracy of the predictions\n",
    "accuracy = accuracy_score(true_labels, y_pred)\n"
   ]
  },
  {
   "cell_type": "code",
   "execution_count": 13,
   "id": "9a0dcdcf",
   "metadata": {},
   "outputs": [
    {
     "name": "stdout",
     "output_type": "stream",
     "text": [
      "Accuracy: 92.31%\n"
     ]
    }
   ],
   "source": [
    "print(\"Accuracy: {:.2f}%\".format(accuracy*100))"
   ]
  },
  {
   "cell_type": "code",
   "execution_count": null,
   "id": "915e4ea9",
   "metadata": {},
   "outputs": [],
   "source": []
  }
 ],
 "metadata": {
  "kernelspec": {
   "display_name": "Python 3 (ipykernel)",
   "language": "python",
   "name": "python3"
  },
  "language_info": {
   "codemirror_mode": {
    "name": "ipython",
    "version": 3
   },
   "file_extension": ".py",
   "mimetype": "text/x-python",
   "name": "python",
   "nbconvert_exporter": "python",
   "pygments_lexer": "ipython3",
   "version": "3.9.7"
  }
 },
 "nbformat": 4,
 "nbformat_minor": 5
}
